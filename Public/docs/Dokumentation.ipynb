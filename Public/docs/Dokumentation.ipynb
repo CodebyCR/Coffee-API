{
 "cells": [
  {
   "cell_type": "markdown",
   "id": "05ec21b0",
   "metadata": {},
   "source": [
    "# Coffee-API Docs"
   ]
  },
  {
   "cell_type": "code",
   "execution_count": 5,
   "id": "707e655f",
   "metadata": {},
   "outputs": [],
   "source": [
    "base_url = \"http://127.0.0.1:8080/test/\""
   ]
  },
  {
   "cell_type": "markdown",
   "id": "2fb6f042",
   "metadata": {},
   "source": [
    "## Authentication"
   ]
  },
  {
   "cell_type": "markdown",
   "id": "dbdefef2",
   "metadata": {},
   "source": [
    "### Registration\n",
    "\n",
    "- _Create a new user_"
   ]
  },
  {
   "cell_type": "code",
   "execution_count": 6,
   "id": "6a2d221e",
   "metadata": {},
   "outputs": [
    {
     "name": "stdout",
     "output_type": "stream",
     "text": [
      "Status Code: 200\n",
      "User registered successfully!\n"
     ]
    }
   ],
   "source": [
    "# Post to the Coffee-API to register a new user.\n",
    "\n",
    "import requests\n",
    "\n",
    "url = base_url + \"authentication/register\"\n",
    "payload = {\n",
    "    \"name\": \"testUser\",\n",
    "    \"email\": \"test@user.de\",\n",
    "    \"password\": \"test1234\"\n",
    "}\n",
    "\n",
    "response = requests.post(url, json=payload)\n",
    "\n",
    "print(\"Status Code:\", response.status_code)\n",
    "if  response.status_code in range(200, 299):\n",
    "    print(\"User registered successfully!\")\n",
    "else:\n",
    "    print(\"Failed to register user.\")"
   ]
  },
  {
   "cell_type": "markdown",
   "id": "4d526e3a",
   "metadata": {},
   "source": [
    "### Login\n",
    "\n",
    "- _log in to get your Authentication Token_"
   ]
  },
  {
   "cell_type": "code",
   "execution_count": null,
   "id": "b6940acc",
   "metadata": {},
   "outputs": [
    {
     "name": "stdout",
     "output_type": "stream",
     "text": [
      "Status Code: 200\n",
      "Authentication Token: cl-7951F4E2-0040-46E9-8FEE-97D080AEEC24\n",
      "User logged in successfully!\n"
     ]
    }
   ],
   "source": [
    "url = base_url + \"authentication/login\"\n",
    "payload = {\n",
    "    \"email\": \"test@user.de\",\n",
    "    \"password\": \"test1234\"\n",
    "}\n",
    "\n",
    "response = requests.post(url, json=payload)\n",
    "\n",
    "auth_token = \"\"\n",
    "\n",
    "print(\"Status Code:\", response.status_code)\n",
    "if  response.status_code in range(200, 299):\n",
    "    auth_token = response.json().get(\"token\")\n",
    "    print(\"Authentication Token:\", auth_token)\n",
    "    print(\"User logged in successfully!\")\n",
    "else:\n",
    "    print(\"Failed to log in user.\")"
   ]
  },
  {
   "cell_type": "code",
   "execution_count": null,
   "id": "1c928052",
   "metadata": {},
   "outputs": [],
   "source": []
  }
 ],
 "metadata": {
  "kernelspec": {
   "display_name": "base",
   "language": "python",
   "name": "python3"
  },
  "language_info": {
   "codemirror_mode": {
    "name": "ipython",
    "version": 3
   },
   "file_extension": ".py",
   "mimetype": "text/x-python",
   "name": "python",
   "nbconvert_exporter": "python",
   "pygments_lexer": "ipython3",
   "version": "3.9.12"
  }
 },
 "nbformat": 4,
 "nbformat_minor": 5
}
